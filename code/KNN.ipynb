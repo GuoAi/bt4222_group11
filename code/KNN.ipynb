{
 "cells": [
  {
   "cell_type": "code",
   "execution_count": 1,
   "metadata": {},
   "outputs": [
    {
     "data": {
      "text/plain": [
       "Unnamed: 0    0\n",
       "keyword       0\n",
       "location      0\n",
       "text          0\n",
       "target        0\n",
       "dtype: int64"
      ]
     },
     "execution_count": 1,
     "metadata": {},
     "output_type": "execute_result"
    }
   ],
   "source": [
    "import pandas as pd\n",
    "\n",
    "df = pd.read_csv('final_data.csv')\n",
    "df = df.dropna()\n",
    "df.isnull().sum()"
   ]
  },
  {
   "cell_type": "code",
   "execution_count": 2,
   "metadata": {},
   "outputs": [
    {
     "data": {
      "text/plain": [
       "(22616, 5)"
      ]
     },
     "execution_count": 2,
     "metadata": {},
     "output_type": "execute_result"
    }
   ],
   "source": [
    "df.shape"
   ]
  },
  {
   "cell_type": "code",
   "execution_count": 3,
   "metadata": {},
   "outputs": [],
   "source": [
    "from sklearn.feature_extraction.text import CountVectorizer\n",
    "from sklearn.model_selection import train_test_split\n",
    "from sklearn.svm import SVC\n",
    "\n",
    "X = df.text\n",
    "y = df.target\n",
    "X_train, X_test, y_train, y_test = train_test_split(X, y, test_size=0.2, random_state=1)\n",
    "X_train, X_val, y_train, y_val = train_test_split(X_train, y_train, test_size=0.25, random_state=1)"
   ]
  },
  {
   "cell_type": "code",
   "execution_count": 32,
   "metadata": {},
   "outputs": [
    {
     "data": {
      "text/plain": [
       "0    16735\n",
       "1     5881\n",
       "Name: target, dtype: int64"
      ]
     },
     "execution_count": 32,
     "metadata": {},
     "output_type": "execute_result"
    }
   ],
   "source": [
    "y.value_counts()   #16735/(16735+5881)=0.7399629"
   ]
  },
  {
   "cell_type": "code",
   "execution_count": 33,
   "metadata": {},
   "outputs": [
    {
     "data": {
      "text/plain": [
       "0    10014\n",
       "1     3555\n",
       "Name: target, dtype: int64"
      ]
     },
     "execution_count": 33,
     "metadata": {},
     "output_type": "execute_result"
    }
   ],
   "source": [
    "y_train.value_counts()   #10014/(10014+3555)=0.7380057"
   ]
  },
  {
   "cell_type": "code",
   "execution_count": 34,
   "metadata": {},
   "outputs": [
    {
     "data": {
      "text/plain": [
       "0    3362\n",
       "1    1162\n",
       "Name: target, dtype: int64"
      ]
     },
     "execution_count": 34,
     "metadata": {},
     "output_type": "execute_result"
    }
   ],
   "source": [
    "y_test.value_counts()    #3362/(3362+1162)=0.7431477"
   ]
  },
  {
   "cell_type": "code",
   "execution_count": 35,
   "metadata": {},
   "outputs": [
    {
     "data": {
      "text/plain": [
       "0    3359\n",
       "1    1164\n",
       "Name: target, dtype: int64"
      ]
     },
     "execution_count": 35,
     "metadata": {},
     "output_type": "execute_result"
    }
   ],
   "source": [
    "y_val.value_counts()    #3359/(3359+1164)=0.7426487"
   ]
  },
  {
   "cell_type": "code",
   "execution_count": 41,
   "metadata": {},
   "outputs": [],
   "source": [
    "def test_classifer(clf):\n",
    "     \n",
    "    clf.fit(X_train_dtm, y_train)\n",
    "    y_pred_class = clf.predict(X_val_dtm)\n",
    "    \n",
    "    print('Accuracy: ', metrics.accuracy_score(y_val, y_pred_class))\n",
    "    print('Confusion matrix: \\n', metrics.confusion_matrix(y_val, y_pred_class))\n",
    "    y_pred_prob = clf.predict_proba(X_val_dtm)[:, 1]\n",
    "    print('AUC: ', metrics.roc_auc_score(y_val, y_pred_prob))"
   ]
  },
  {
   "cell_type": "markdown",
   "metadata": {},
   "source": [
    "## 1. tf-idf"
   ]
  },
  {
   "cell_type": "markdown",
   "metadata": {},
   "source": [
    "### 1.2 Second best"
   ]
  },
  {
   "cell_type": "code",
   "execution_count": 43,
   "metadata": {},
   "outputs": [
    {
     "name": "stdout",
     "output_type": "stream",
     "text": [
      "Features:  30787\n",
      "['aa', 'aaaa', 'aaaaaaaaacccccckkkkkkkk', 'aaaaaaallll', 'aaarrrgghhh', 'aaceorg', 'aalaathun', 'aaliyah', 'aalso', 'aamar', 'aampm', 'aampw', 'aan', 'aanbhan', 'aanswering', 'aap', 'aappburma', 'aaquatic', 'aarifshaah', 'aaronjayjack', 'aaronlloydwhite', 'aaronthefm', 'aat', 'aayega', 'ab', 'aba', 'aback', 'abandon', 'abandoned', 'abandonedpics', 'abandoning', 'abanti', 'abathsagayeshwarar', 'abbandoned', 'abbot', 'abbots', 'abbotsford', 'abbott', 'abbottkingsley', 'abbruchsimulator', 'abbswinston', 'abby', 'abbyairshow', 'abc', 'abcnews', 'abcnorio', 'abcs', 'abcworldnews', 'abd', 'abduct']\n",
      "['zanu', 'zapping', 'zappy', 'zarahsultana', 'zardari', 'zarharzar', 'zariagenocide', 'zariamassacre', 'zarry', 'zayn', 'zaynmaiikist', 'zaynmalik', 'zboys', 'zeal', 'zealand', 'zealanders', 'zealous', 'zebramilfwhore', 'zechariah', 'zehrs', 'zekhan', 'zelda', 'zelensky', 'zenandemcfen', 'zennkyi', 'zep', 'zero', 'zeromdr', 'zeroplasticrun', 'zeroranger', 'zeros', 'zerovacancygal', 'zevon', 'zhan', 'zhang', 'zheenx', 'zheenxae', 'zhehanzhou', 'zhenghxn', 'zhivago', 'zhou', 'zhuhai', 'zicac', 'zico', 'ziggygreaves', 'zijin', 'zil', 'zillychu', 'zimbabwe', 'zimbabweans', 'zimmer', 'zimmerman', 'zimpapersviews', 'zionism', 'zionist', 'zionistowned', 'zionists', 'zip', 'ziphimup', 'zipped', 'zippednews', 'zipper', 'zishugong', 'zishuwen', 'zitti', 'ziuw', 'ziziphoxhosa', 'zoalways', 'zodiac', 'zofavorite', 'zolaamanda', 'zombie', 'zombiejerusalthem', 'zombies', 'zonal', 'zone', 'zoned', 'zones', 'zonesthank', 'zoo', 'zoom', 'zorayablack', 'zorro', 'zoskinhealth', 'zouma', 'zourryart', 'zoya', 'zrnf', 'zss', 'zuckerberg', 'zuko', 'zulaikhas', 'zulaykhas', 'zuma', 'zurich', 'zuru', 'zurutsavowest', 'zwelwinmyanmar', 'zxathetis', 'zzzz']\n"
     ]
    }
   ],
   "source": [
    "from sklearn.neighbors import KNeighborsClassifier\n",
    "from sklearn.feature_extraction.text import TfidfVectorizer\n",
    "\n",
    "vect = TfidfVectorizer()\n",
    "X_train_dtm = vect.fit_transform(X_train)\n",
    "X_val_dtm = vect.transform(X_val)\n",
    "print('Features: ', X_train_dtm.shape[1])\n",
    "print(vect.get_feature_names()[:50])\n",
    "print(vect.get_feature_names()[-100:])"
   ]
  },
  {
   "cell_type": "code",
   "execution_count": 45,
   "metadata": {},
   "outputs": [
    {
     "name": "stdout",
     "output_type": "stream",
     "text": [
      "Accuracy:  0.8074286977669688\n",
      "Confusion matrix: \n",
      " [[3037  322]\n",
      " [ 549  615]]\n",
      "AUC:  0.7807665767405411\n"
     ]
    }
   ],
   "source": [
    "from sklearn.neighbors import KNeighborsClassifier\n",
    "from sklearn import metrics\n",
    "\n",
    "knn = KNeighborsClassifier(n_neighbors=3)\n",
    "test_classifer(knn)"
   ]
  },
  {
   "cell_type": "code",
   "execution_count": 70,
   "metadata": {},
   "outputs": [
    {
     "name": "stdout",
     "output_type": "stream",
     "text": [
      "Features:  30787\n",
      "['aa', 'aaaa', 'aaaaaaaaacccccckkkkkkkk', 'aaaaaaallll', 'aaarrrgghhh', 'aaceorg', 'aalaathun', 'aaliyah', 'aalso', 'aamar', 'aampm', 'aampw', 'aan', 'aanbhan', 'aanswering', 'aap', 'aappburma', 'aaquatic', 'aarifshaah', 'aaronjayjack', 'aaronlloydwhite', 'aaronthefm', 'aat', 'aayega', 'ab', 'aba', 'aback', 'abandon', 'abandoned', 'abandonedpics', 'abandoning', 'abanti', 'abathsagayeshwarar', 'abbandoned', 'abbot', 'abbots', 'abbotsford', 'abbott', 'abbottkingsley', 'abbruchsimulator', 'abbswinston', 'abby', 'abbyairshow', 'abc', 'abcnews', 'abcnorio', 'abcs', 'abcworldnews', 'abd', 'abduct']\n",
      "['zanu', 'zapping', 'zappy', 'zarahsultana', 'zardari', 'zarharzar', 'zariagenocide', 'zariamassacre', 'zarry', 'zayn', 'zaynmaiikist', 'zaynmalik', 'zboys', 'zeal', 'zealand', 'zealanders', 'zealous', 'zebramilfwhore', 'zechariah', 'zehrs', 'zekhan', 'zelda', 'zelensky', 'zenandemcfen', 'zennkyi', 'zep', 'zero', 'zeromdr', 'zeroplasticrun', 'zeroranger', 'zeros', 'zerovacancygal', 'zevon', 'zhan', 'zhang', 'zheenx', 'zheenxae', 'zhehanzhou', 'zhenghxn', 'zhivago', 'zhou', 'zhuhai', 'zicac', 'zico', 'ziggygreaves', 'zijin', 'zil', 'zillychu', 'zimbabwe', 'zimbabweans', 'zimmer', 'zimmerman', 'zimpapersviews', 'zionism', 'zionist', 'zionistowned', 'zionists', 'zip', 'ziphimup', 'zipped', 'zippednews', 'zipper', 'zishugong', 'zishuwen', 'zitti', 'ziuw', 'ziziphoxhosa', 'zoalways', 'zodiac', 'zofavorite', 'zolaamanda', 'zombie', 'zombiejerusalthem', 'zombies', 'zonal', 'zone', 'zoned', 'zones', 'zonesthank', 'zoo', 'zoom', 'zorayablack', 'zorro', 'zoskinhealth', 'zouma', 'zourryart', 'zoya', 'zrnf', 'zss', 'zuckerberg', 'zuko', 'zulaikhas', 'zulaykhas', 'zuma', 'zurich', 'zuru', 'zurutsavowest', 'zwelwinmyanmar', 'zxathetis', 'zzzz']\n"
     ]
    }
   ],
   "source": [
    "vect = TfidfVectorizer(sublinear_tf=True)\n",
    "X_train_dtm = vect.fit_transform(X_train)\n",
    "X_val_dtm = vect.transform(X_val)\n",
    "print('Features: ', X_train_dtm.shape[1])\n",
    "print(vect.get_feature_names()[:50])\n",
    "print(vect.get_feature_names()[-100:])"
   ]
  },
  {
   "cell_type": "code",
   "execution_count": 71,
   "metadata": {},
   "outputs": [
    {
     "name": "stdout",
     "output_type": "stream",
     "text": [
      "Accuracy:  0.8087552509396418\n",
      "Confusion matrix: \n",
      " [[3040  319]\n",
      " [ 546  618]]\n",
      "AUC:  0.7854227346340394\n"
     ]
    }
   ],
   "source": [
    "from sklearn.neighbors import KNeighborsClassifier\n",
    "from sklearn import metrics\n",
    "\n",
    "knn = KNeighborsClassifier(n_neighbors=3)\n",
    "test_classifer(knn)"
   ]
  },
  {
   "cell_type": "code",
   "execution_count": 72,
   "metadata": {},
   "outputs": [
    {
     "name": "stdout",
     "output_type": "stream",
     "text": [
      "Features:  30787\n",
      "['aa', 'aaaa', 'aaaaaaaaacccccckkkkkkkk', 'aaaaaaallll', 'aaarrrgghhh', 'aaceorg', 'aalaathun', 'aaliyah', 'aalso', 'aamar', 'aampm', 'aampw', 'aan', 'aanbhan', 'aanswering', 'aap', 'aappburma', 'aaquatic', 'aarifshaah', 'aaronjayjack', 'aaronlloydwhite', 'aaronthefm', 'aat', 'aayega', 'ab', 'aba', 'aback', 'abandon', 'abandoned', 'abandonedpics', 'abandoning', 'abanti', 'abathsagayeshwarar', 'abbandoned', 'abbot', 'abbots', 'abbotsford', 'abbott', 'abbottkingsley', 'abbruchsimulator', 'abbswinston', 'abby', 'abbyairshow', 'abc', 'abcnews', 'abcnorio', 'abcs', 'abcworldnews', 'abd', 'abduct']\n",
      "['zanu', 'zapping', 'zappy', 'zarahsultana', 'zardari', 'zarharzar', 'zariagenocide', 'zariamassacre', 'zarry', 'zayn', 'zaynmaiikist', 'zaynmalik', 'zboys', 'zeal', 'zealand', 'zealanders', 'zealous', 'zebramilfwhore', 'zechariah', 'zehrs', 'zekhan', 'zelda', 'zelensky', 'zenandemcfen', 'zennkyi', 'zep', 'zero', 'zeromdr', 'zeroplasticrun', 'zeroranger', 'zeros', 'zerovacancygal', 'zevon', 'zhan', 'zhang', 'zheenx', 'zheenxae', 'zhehanzhou', 'zhenghxn', 'zhivago', 'zhou', 'zhuhai', 'zicac', 'zico', 'ziggygreaves', 'zijin', 'zil', 'zillychu', 'zimbabwe', 'zimbabweans', 'zimmer', 'zimmerman', 'zimpapersviews', 'zionism', 'zionist', 'zionistowned', 'zionists', 'zip', 'ziphimup', 'zipped', 'zippednews', 'zipper', 'zishugong', 'zishuwen', 'zitti', 'ziuw', 'ziziphoxhosa', 'zoalways', 'zodiac', 'zofavorite', 'zolaamanda', 'zombie', 'zombiejerusalthem', 'zombies', 'zonal', 'zone', 'zoned', 'zones', 'zonesthank', 'zoo', 'zoom', 'zorayablack', 'zorro', 'zoskinhealth', 'zouma', 'zourryart', 'zoya', 'zrnf', 'zss', 'zuckerberg', 'zuko', 'zulaikhas', 'zulaykhas', 'zuma', 'zurich', 'zuru', 'zurutsavowest', 'zwelwinmyanmar', 'zxathetis', 'zzzz']\n"
     ]
    }
   ],
   "source": [
    "vect = TfidfVectorizer(sublinear_tf=True, binary=True)\n",
    "X_train_dtm = vect.fit_transform(X_train)\n",
    "X_val_dtm = vect.transform(X_val)\n",
    "print('Features: ', X_train_dtm.shape[1])\n",
    "print(vect.get_feature_names()[:50])\n",
    "print(vect.get_feature_names()[-100:])"
   ]
  },
  {
   "cell_type": "code",
   "execution_count": 73,
   "metadata": {},
   "outputs": [
    {
     "name": "stdout",
     "output_type": "stream",
     "text": [
      "Accuracy:  0.8147247402166704\n",
      "Confusion matrix: \n",
      " [[3062  297]\n",
      " [ 541  623]]\n",
      "AUC:  0.7862943735300045\n"
     ]
    }
   ],
   "source": [
    "from sklearn.neighbors import KNeighborsClassifier\n",
    "from sklearn import metrics\n",
    "\n",
    "knn = KNeighborsClassifier(n_neighbors=3)\n",
    "test_classifer(knn)"
   ]
  },
  {
   "cell_type": "code",
   "execution_count": 74,
   "metadata": {},
   "outputs": [
    {
     "name": "stdout",
     "output_type": "stream",
     "text": [
      "Accuracy:  0.8242317046208268\n",
      "Confusion matrix: \n",
      " [[3125  234]\n",
      " [ 561  603]]\n",
      "AUC:  0.807133653343482\n"
     ]
    }
   ],
   "source": [
    "from sklearn.neighbors import KNeighborsClassifier\n",
    "from sklearn import metrics\n",
    "\n",
    "knn = KNeighborsClassifier(n_neighbors=5)\n",
    "test_classifer(knn)"
   ]
  },
  {
   "cell_type": "code",
   "execution_count": 75,
   "metadata": {},
   "outputs": [
    {
     "name": "stdout",
     "output_type": "stream",
     "text": [
      "Accuracy:  0.826884810966173\n",
      "Confusion matrix: \n",
      " [[3161  198]\n",
      " [ 585  579]]\n",
      "AUC:  0.8135224748815562\n"
     ]
    }
   ],
   "source": [
    "from sklearn.neighbors import KNeighborsClassifier\n",
    "from sklearn import metrics\n",
    "\n",
    "knn = KNeighborsClassifier(n_neighbors=7)\n",
    "test_classifer(knn)"
   ]
  },
  {
   "cell_type": "code",
   "execution_count": 76,
   "metadata": {},
   "outputs": [
    {
     "name": "stdout",
     "output_type": "stream",
     "text": [
      "Accuracy:  0.826884810966173\n",
      "Confusion matrix: \n",
      " [[3187  172]\n",
      " [ 611  553]]\n",
      "AUC:  0.822837220413128\n"
     ]
    }
   ],
   "source": [
    "from sklearn.neighbors import KNeighborsClassifier\n",
    "from sklearn import metrics\n",
    "\n",
    "knn = KNeighborsClassifier(n_neighbors=9)\n",
    "test_classifer(knn)"
   ]
  },
  {
   "cell_type": "code",
   "execution_count": 77,
   "metadata": {},
   "outputs": [
    {
     "name": "stdout",
     "output_type": "stream",
     "text": [
      "Accuracy:  0.8288746407251824\n",
      "Confusion matrix: \n",
      " [[3198  161]\n",
      " [ 613  551]]\n",
      "AUC:  0.8243685989018577\n"
     ]
    }
   ],
   "source": [
    "from sklearn.neighbors import KNeighborsClassifier\n",
    "from sklearn import metrics\n",
    "\n",
    "knn = KNeighborsClassifier(n_neighbors=11)\n",
    "test_classifer(knn)"
   ]
  },
  {
   "cell_type": "code",
   "execution_count": 78,
   "metadata": {},
   "outputs": [
    {
     "name": "stdout",
     "output_type": "stream",
     "text": [
      "Accuracy:  0.8346230378067654\n",
      "Confusion matrix: \n",
      " [[3222  137]\n",
      " [ 611  553]]\n",
      "AUC:  0.8274830199218595\n"
     ]
    }
   ],
   "source": [
    "# best in 1.2, overall best one\n",
    "from sklearn.neighbors import KNeighborsClassifier\n",
    "from sklearn import metrics\n",
    "\n",
    "knn = KNeighborsClassifier(n_neighbors=13)\n",
    "test_classifer(knn)"
   ]
  },
  {
   "cell_type": "code",
   "execution_count": 79,
   "metadata": {},
   "outputs": [
    {
     "name": "stdout",
     "output_type": "stream",
     "text": [
      "Accuracy:  0.83440194561132\n",
      "Confusion matrix: \n",
      " [[3228  131]\n",
      " [ 618  546]]\n",
      "AUC:  0.8320367448993267\n"
     ]
    }
   ],
   "source": [
    "from sklearn.neighbors import KNeighborsClassifier\n",
    "from sklearn import metrics\n",
    "\n",
    "knn = KNeighborsClassifier(n_neighbors=15)\n",
    "test_classifer(knn)"
   ]
  },
  {
   "cell_type": "markdown",
   "metadata": {},
   "source": [
    "### 1.1 Best"
   ]
  },
  {
   "cell_type": "code",
   "execution_count": 46,
   "metadata": {},
   "outputs": [
    {
     "name": "stdout",
     "output_type": "stream",
     "text": [
      "Features:  37700\n",
      "['AA', 'AAAA', 'AAAAAAALLLL', 'AACEorg', 'ABC', 'ABCWorldNews', 'ABCs', 'ABEL', 'ABIA', 'ABLAZE', 'ABOUT', 'ABSO', 'ABSOLUTE', 'ABSOLUTELY', 'ABT', 'ABUSE', 'ABUSEDDESOLATEampLOST', 'ABlinken', 'ABomb', 'AC', 'ACCIDENT', 'ACCIDENTALLY', 'ACCUSES', 'ACDC', 'ACLU', 'ACNH', 'ACSRangoon', 'ACT', 'ACTING', 'ACTION', 'ACTIVITY', 'ACTOR', 'ACTUALLY', 'ACarewornHeart', 'ACeBabes', 'AD', 'ADA', 'ADHD', 'ADL', 'ADMK', 'ADMorgan', 'ADNDAPAT', 'ADRENOCHROME', 'ADVENTURE', 'ADVERT', 'AESPAINAUNION', 'AEW', 'AF', 'AFC', 'AFFECT']\n",
      "['yip', 'yips', 'yjhansexy', 'yknow', 'ykw', 'yo', 'yoobis', 'yoonbin', 'yoongi', 'yoonhee', 'york', 'yoshi', 'you', 'youAnd', 'youLeft', 'youd', 'youll', 'youmustrise', 'youn', 'young', 'youngdves', 'younger', 'youngest', 'youngins', 'your', 'yourboyshawn', 'youre', 'yours', 'yoursLet', 'yoursel', 'yourself', 'yourselves', 'yous', 'youtaites', 'youth', 'youthDid', 'youthrowntrue', 'youths', 'youtube', 'youtuber', 'youtubers', 'youve', 'youwhat', 'yr', 'yrs', 'ysjagan', 'ystrdy', 'yuga', 'yugvani', 'yugyeom', 'yuh', 'yuna', 'yung', 'yupp', 'yusufpore', 'yuutdthem', 'yuvi', 'yxngflair', 'yyc', 'yycfringe', 'yycstorm', 'yycwalks', 'yycweather', 'yyj', 'yzdawar', 'zachawelch', 'zalisteggall', 'zamboni', 'zamtriossu', 'zan', 'zapping', 'zarahsultana', 'zardari', 'zarry', 'zayn', 'zaynmaIikist', 'zaynmalik', 'zealous', 'zehrs', 'zennkyi', 'zero', 'zeroranger', 'zerovacancygal', 'zhan', 'zhenghxn', 'ziggygreaves', 'zionist', 'zipped', 'zoalways', 'zombie', 'zombiejerusalthem', 'zombies', 'zone', 'zones', 'zonesthank', 'zoo', 'zoom', 'zoskinhealth', 'zourryart', 'zzzz']\n"
     ]
    }
   ],
   "source": [
    "# current best level 1\n",
    "from sklearn.neighbors import KNeighborsClassifier\n",
    "from sklearn.feature_extraction.text import TfidfVectorizer\n",
    "\n",
    "vect = TfidfVectorizer(lowercase=False)\n",
    "X_train_dtm = vect.fit_transform(X_train)\n",
    "X_val_dtm = vect.transform(X_val)\n",
    "print('Features: ', X_train_dtm.shape[1])\n",
    "print(vect.get_feature_names()[:50])\n",
    "print(vect.get_feature_names()[-100:])"
   ]
  },
  {
   "cell_type": "code",
   "execution_count": 47,
   "metadata": {},
   "outputs": [
    {
     "name": "stdout",
     "output_type": "stream",
     "text": [
      "Accuracy:  0.8078708821578598\n",
      "Confusion matrix: \n",
      " [[3049  310]\n",
      " [ 559  605]]\n",
      "AUC:  0.7780013995328752\n"
     ]
    }
   ],
   "source": [
    "from sklearn.neighbors import KNeighborsClassifier\n",
    "from sklearn import metrics\n",
    "\n",
    "knn = KNeighborsClassifier(n_neighbors=3)\n",
    "test_classifer(knn)"
   ]
  },
  {
   "cell_type": "code",
   "execution_count": 57,
   "metadata": {},
   "outputs": [
    {
     "name": "stdout",
     "output_type": "stream",
     "text": [
      "Features:  37700\n",
      "['AA', 'AAAA', 'AAAAAAALLLL', 'AACEorg', 'ABC', 'ABCWorldNews', 'ABCs', 'ABEL', 'ABIA', 'ABLAZE', 'ABOUT', 'ABSO', 'ABSOLUTE', 'ABSOLUTELY', 'ABT', 'ABUSE', 'ABUSEDDESOLATEampLOST', 'ABlinken', 'ABomb', 'AC', 'ACCIDENT', 'ACCIDENTALLY', 'ACCUSES', 'ACDC', 'ACLU', 'ACNH', 'ACSRangoon', 'ACT', 'ACTING', 'ACTION', 'ACTIVITY', 'ACTOR', 'ACTUALLY', 'ACarewornHeart', 'ACeBabes', 'AD', 'ADA', 'ADHD', 'ADL', 'ADMK', 'ADMorgan', 'ADNDAPAT', 'ADRENOCHROME', 'ADVENTURE', 'ADVERT', 'AESPAINAUNION', 'AEW', 'AF', 'AFC', 'AFFECT']\n",
      "['yip', 'yips', 'yjhansexy', 'yknow', 'ykw', 'yo', 'yoobis', 'yoonbin', 'yoongi', 'yoonhee', 'york', 'yoshi', 'you', 'youAnd', 'youLeft', 'youd', 'youll', 'youmustrise', 'youn', 'young', 'youngdves', 'younger', 'youngest', 'youngins', 'your', 'yourboyshawn', 'youre', 'yours', 'yoursLet', 'yoursel', 'yourself', 'yourselves', 'yous', 'youtaites', 'youth', 'youthDid', 'youthrowntrue', 'youths', 'youtube', 'youtuber', 'youtubers', 'youve', 'youwhat', 'yr', 'yrs', 'ysjagan', 'ystrdy', 'yuga', 'yugvani', 'yugyeom', 'yuh', 'yuna', 'yung', 'yupp', 'yusufpore', 'yuutdthem', 'yuvi', 'yxngflair', 'yyc', 'yycfringe', 'yycstorm', 'yycwalks', 'yycweather', 'yyj', 'yzdawar', 'zachawelch', 'zalisteggall', 'zamboni', 'zamtriossu', 'zan', 'zapping', 'zarahsultana', 'zardari', 'zarry', 'zayn', 'zaynmaIikist', 'zaynmalik', 'zealous', 'zehrs', 'zennkyi', 'zero', 'zeroranger', 'zerovacancygal', 'zhan', 'zhenghxn', 'ziggygreaves', 'zionist', 'zipped', 'zoalways', 'zombie', 'zombiejerusalthem', 'zombies', 'zone', 'zones', 'zonesthank', 'zoo', 'zoom', 'zoskinhealth', 'zourryart', 'zzzz']\n"
     ]
    }
   ],
   "source": [
    "from sklearn.neighbors import KNeighborsClassifier\n",
    "from sklearn.feature_extraction.text import TfidfVectorizer\n",
    "\n",
    "vect = TfidfVectorizer(lowercase=False, sublinear_tf=True)\n",
    "X_train_dtm = vect.fit_transform(X_train)\n",
    "X_val_dtm = vect.transform(X_val)\n",
    "print('Features: ', X_train_dtm.shape[1])\n",
    "print(vect.get_feature_names()[:50])\n",
    "print(vect.get_feature_names()[-100:])"
   ]
  },
  {
   "cell_type": "code",
   "execution_count": 58,
   "metadata": {},
   "outputs": [
    {
     "name": "stdout",
     "output_type": "stream",
     "text": [
      "Accuracy:  0.8080919743533054\n",
      "Confusion matrix: \n",
      " [[3034  325]\n",
      " [ 543  621]]\n",
      "AUC:  0.7793638468329942\n"
     ]
    }
   ],
   "source": [
    "from sklearn.neighbors import KNeighborsClassifier\n",
    "from sklearn import metrics\n",
    "\n",
    "knn = KNeighborsClassifier(n_neighbors=3)\n",
    "test_classifer(knn)"
   ]
  },
  {
   "cell_type": "code",
   "execution_count": 60,
   "metadata": {},
   "outputs": [
    {
     "name": "stdout",
     "output_type": "stream",
     "text": [
      "Features:  37700\n",
      "['AA', 'AAAA', 'AAAAAAALLLL', 'AACEorg', 'ABC', 'ABCWorldNews', 'ABCs', 'ABEL', 'ABIA', 'ABLAZE', 'ABOUT', 'ABSO', 'ABSOLUTE', 'ABSOLUTELY', 'ABT', 'ABUSE', 'ABUSEDDESOLATEampLOST', 'ABlinken', 'ABomb', 'AC', 'ACCIDENT', 'ACCIDENTALLY', 'ACCUSES', 'ACDC', 'ACLU', 'ACNH', 'ACSRangoon', 'ACT', 'ACTING', 'ACTION', 'ACTIVITY', 'ACTOR', 'ACTUALLY', 'ACarewornHeart', 'ACeBabes', 'AD', 'ADA', 'ADHD', 'ADL', 'ADMK', 'ADMorgan', 'ADNDAPAT', 'ADRENOCHROME', 'ADVENTURE', 'ADVERT', 'AESPAINAUNION', 'AEW', 'AF', 'AFC', 'AFFECT']\n",
      "['yip', 'yips', 'yjhansexy', 'yknow', 'ykw', 'yo', 'yoobis', 'yoonbin', 'yoongi', 'yoonhee', 'york', 'yoshi', 'you', 'youAnd', 'youLeft', 'youd', 'youll', 'youmustrise', 'youn', 'young', 'youngdves', 'younger', 'youngest', 'youngins', 'your', 'yourboyshawn', 'youre', 'yours', 'yoursLet', 'yoursel', 'yourself', 'yourselves', 'yous', 'youtaites', 'youth', 'youthDid', 'youthrowntrue', 'youths', 'youtube', 'youtuber', 'youtubers', 'youve', 'youwhat', 'yr', 'yrs', 'ysjagan', 'ystrdy', 'yuga', 'yugvani', 'yugyeom', 'yuh', 'yuna', 'yung', 'yupp', 'yusufpore', 'yuutdthem', 'yuvi', 'yxngflair', 'yyc', 'yycfringe', 'yycstorm', 'yycwalks', 'yycweather', 'yyj', 'yzdawar', 'zachawelch', 'zalisteggall', 'zamboni', 'zamtriossu', 'zan', 'zapping', 'zarahsultana', 'zardari', 'zarry', 'zayn', 'zaynmaIikist', 'zaynmalik', 'zealous', 'zehrs', 'zennkyi', 'zero', 'zeroranger', 'zerovacancygal', 'zhan', 'zhenghxn', 'ziggygreaves', 'zionist', 'zipped', 'zoalways', 'zombie', 'zombiejerusalthem', 'zombies', 'zone', 'zones', 'zonesthank', 'zoo', 'zoom', 'zoskinhealth', 'zourryart', 'zzzz']\n"
     ]
    }
   ],
   "source": [
    "from sklearn.neighbors import KNeighborsClassifier\n",
    "from sklearn.feature_extraction.text import TfidfVectorizer\n",
    "\n",
    "vect = TfidfVectorizer(lowercase=False, sublinear_tf=True, binary=True)\n",
    "X_train_dtm = vect.fit_transform(X_train)\n",
    "X_val_dtm = vect.transform(X_val)\n",
    "print('Features: ', X_train_dtm.shape[1])\n",
    "print(vect.get_feature_names()[:50])\n",
    "print(vect.get_feature_names()[-100:])"
   ]
  },
  {
   "cell_type": "code",
   "execution_count": 61,
   "metadata": {},
   "outputs": [
    {
     "name": "stdout",
     "output_type": "stream",
     "text": [
      "Accuracy:  0.8096396197214238\n",
      "Confusion matrix: \n",
      " [[3050  309]\n",
      " [ 552  612]]\n",
      "AUC:  0.782784927194622\n"
     ]
    }
   ],
   "source": [
    "from sklearn.neighbors import KNeighborsClassifier\n",
    "from sklearn import metrics\n",
    "\n",
    "knn = KNeighborsClassifier(n_neighbors=3)\n",
    "test_classifer(knn)"
   ]
  },
  {
   "cell_type": "code",
   "execution_count": 62,
   "metadata": {},
   "outputs": [
    {
     "name": "stdout",
     "output_type": "stream",
     "text": [
      "Accuracy:  0.8244527968162724\n",
      "Confusion matrix: \n",
      " [[3126  233]\n",
      " [ 561  603]]\n",
      "AUC:  0.8032057794160224\n"
     ]
    }
   ],
   "source": [
    "from sklearn.neighbors import KNeighborsClassifier\n",
    "from sklearn import metrics\n",
    "\n",
    "knn = KNeighborsClassifier(n_neighbors=5)\n",
    "test_classifer(knn)"
   ]
  },
  {
   "cell_type": "code",
   "execution_count": 65,
   "metadata": {},
   "outputs": [
    {
     "name": "stdout",
     "output_type": "stream",
     "text": [
      "Accuracy:  0.8288746407251824\n",
      "Confusion matrix: \n",
      " [[3166  193]\n",
      " [ 581  583]]\n",
      "AUC:  0.8154871151924\n"
     ]
    }
   ],
   "source": [
    "# best accuracy in 1.1\n",
    "from sklearn.neighbors import KNeighborsClassifier\n",
    "from sklearn import metrics\n",
    "\n",
    "knn = KNeighborsClassifier(n_neighbors=7)\n",
    "test_classifer(knn)"
   ]
  },
  {
   "cell_type": "code",
   "execution_count": 66,
   "metadata": {},
   "outputs": [
    {
     "name": "stdout",
     "output_type": "stream",
     "text": [
      "Accuracy:  0.8273269953570639\n",
      "Confusion matrix: \n",
      " [[3185  174]\n",
      " [ 607  557]]\n",
      "AUC:  0.8188337686412561\n"
     ]
    }
   ],
   "source": [
    "from sklearn.neighbors import KNeighborsClassifier\n",
    "from sklearn import metrics\n",
    "\n",
    "knn = KNeighborsClassifier(n_neighbors=9)\n",
    "test_classifer(knn)"
   ]
  },
  {
   "cell_type": "code",
   "execution_count": null,
   "metadata": {},
   "outputs": [],
   "source": []
  },
  {
   "cell_type": "code",
   "execution_count": 50,
   "metadata": {},
   "outputs": [
    {
     "name": "stdout",
     "output_type": "stream",
     "text": [
      "Features:  30498\n",
      "['aa', 'aaaa', 'aaaaaaaaacccccckkkkkkkk', 'aaaaaaallll', 'aaarrrgghhh', 'aaceorg', 'aalaathun', 'aaliyah', 'aalso', 'aamar', 'aampm', 'aampw', 'aan', 'aanbhan', 'aanswering', 'aap', 'aappburma', 'aaquatic', 'aarifshaah', 'aaronjayjack', 'aaronlloydwhite', 'aaronthefm', 'aat', 'aayega', 'ab', 'aba', 'aback', 'abandon', 'abandoned', 'abandonedpics', 'abandoning', 'abanti', 'abathsagayeshwarar', 'abbandoned', 'abbot', 'abbots', 'abbotsford', 'abbott', 'abbottkingsley', 'abbruchsimulator', 'abbswinston', 'abby', 'abbyairshow', 'abc', 'abcnews', 'abcnorio', 'abcs', 'abcworldnews', 'abd', 'abduct']\n",
      "['zanu', 'zapping', 'zappy', 'zarahsultana', 'zardari', 'zarharzar', 'zariagenocide', 'zariamassacre', 'zarry', 'zayn', 'zaynmaiikist', 'zaynmalik', 'zboys', 'zeal', 'zealand', 'zealanders', 'zealous', 'zebramilfwhore', 'zechariah', 'zehrs', 'zekhan', 'zelda', 'zelensky', 'zenandemcfen', 'zennkyi', 'zep', 'zero', 'zeromdr', 'zeroplasticrun', 'zeroranger', 'zeros', 'zerovacancygal', 'zevon', 'zhan', 'zhang', 'zheenx', 'zheenxae', 'zhehanzhou', 'zhenghxn', 'zhivago', 'zhou', 'zhuhai', 'zicac', 'zico', 'ziggygreaves', 'zijin', 'zil', 'zillychu', 'zimbabwe', 'zimbabweans', 'zimmer', 'zimmerman', 'zimpapersviews', 'zionism', 'zionist', 'zionistowned', 'zionists', 'zip', 'ziphimup', 'zipped', 'zippednews', 'zipper', 'zishugong', 'zishuwen', 'zitti', 'ziuw', 'ziziphoxhosa', 'zoalways', 'zodiac', 'zofavorite', 'zolaamanda', 'zombie', 'zombiejerusalthem', 'zombies', 'zonal', 'zone', 'zoned', 'zones', 'zonesthank', 'zoo', 'zoom', 'zorayablack', 'zorro', 'zoskinhealth', 'zouma', 'zourryart', 'zoya', 'zrnf', 'zss', 'zuckerberg', 'zuko', 'zulaikhas', 'zulaykhas', 'zuma', 'zurich', 'zuru', 'zurutsavowest', 'zwelwinmyanmar', 'zxathetis', 'zzzz']\n"
     ]
    }
   ],
   "source": [
    "from sklearn.neighbors import KNeighborsClassifier\n",
    "from sklearn.feature_extraction.text import TfidfVectorizer\n",
    "\n",
    "vect = TfidfVectorizer(stop_words='english')\n",
    "X_train_dtm = vect.fit_transform(X_train)\n",
    "X_val_dtm = vect.transform(X_val)\n",
    "print('Features: ', X_train_dtm.shape[1])\n",
    "print(vect.get_feature_names()[:50])\n",
    "print(vect.get_feature_names()[-100:])"
   ]
  },
  {
   "cell_type": "code",
   "execution_count": 51,
   "metadata": {},
   "outputs": [
    {
     "name": "stdout",
     "output_type": "stream",
     "text": [
      "Accuracy:  0.7716117621047976\n",
      "Confusion matrix: \n",
      " [[3340   19]\n",
      " [1014  150]]\n",
      "AUC:  0.6265017100286556\n"
     ]
    }
   ],
   "source": [
    "from sklearn.neighbors import KNeighborsClassifier\n",
    "from sklearn import metrics\n",
    "\n",
    "knn = KNeighborsClassifier(n_neighbors=3)\n",
    "test_classifer(knn)"
   ]
  },
  {
   "cell_type": "code",
   "execution_count": 28,
   "metadata": {},
   "outputs": [
    {
     "name": "stdout",
     "output_type": "stream",
     "text": [
      "Features:  30787\n",
      "['aa', 'aaaa', 'aaaaaaaaacccccckkkkkkkk', 'aaaaaaallll', 'aaarrrgghhh', 'aaceorg', 'aalaathun', 'aaliyah', 'aalso', 'aamar', 'aampm', 'aampw', 'aan', 'aanbhan', 'aanswering', 'aap', 'aappburma', 'aaquatic', 'aarifshaah', 'aaronjayjack', 'aaronlloydwhite', 'aaronthefm', 'aat', 'aayega', 'ab', 'aba', 'aback', 'abandon', 'abandoned', 'abandonedpics', 'abandoning', 'abanti', 'abathsagayeshwarar', 'abbandoned', 'abbot', 'abbots', 'abbotsford', 'abbott', 'abbottkingsley', 'abbruchsimulator', 'abbswinston', 'abby', 'abbyairshow', 'abc', 'abcnews', 'abcnorio', 'abcs', 'abcworldnews', 'abd', 'abduct']\n",
      "['zanu', 'zapping', 'zappy', 'zarahsultana', 'zardari', 'zarharzar', 'zariagenocide', 'zariamassacre', 'zarry', 'zayn', 'zaynmaiikist', 'zaynmalik', 'zboys', 'zeal', 'zealand', 'zealanders', 'zealous', 'zebramilfwhore', 'zechariah', 'zehrs', 'zekhan', 'zelda', 'zelensky', 'zenandemcfen', 'zennkyi', 'zep', 'zero', 'zeromdr', 'zeroplasticrun', 'zeroranger', 'zeros', 'zerovacancygal', 'zevon', 'zhan', 'zhang', 'zheenx', 'zheenxae', 'zhehanzhou', 'zhenghxn', 'zhivago', 'zhou', 'zhuhai', 'zicac', 'zico', 'ziggygreaves', 'zijin', 'zil', 'zillychu', 'zimbabwe', 'zimbabweans', 'zimmer', 'zimmerman', 'zimpapersviews', 'zionism', 'zionist', 'zionistowned', 'zionists', 'zip', 'ziphimup', 'zipped', 'zippednews', 'zipper', 'zishugong', 'zishuwen', 'zitti', 'ziuw', 'ziziphoxhosa', 'zoalways', 'zodiac', 'zofavorite', 'zolaamanda', 'zombie', 'zombiejerusalthem', 'zombies', 'zonal', 'zone', 'zoned', 'zones', 'zonesthank', 'zoo', 'zoom', 'zorayablack', 'zorro', 'zoskinhealth', 'zouma', 'zourryart', 'zoya', 'zrnf', 'zss', 'zuckerberg', 'zuko', 'zulaikhas', 'zulaykhas', 'zuma', 'zurich', 'zuru', 'zurutsavowest', 'zwelwinmyanmar', 'zxathetis', 'zzzz']\n"
     ]
    }
   ],
   "source": [
    "'''\n",
    "from sklearn.neighbors import KNeighborsClassifier\n",
    "from sklearn.feature_extraction.text import TfidfVectorizer\n",
    "\n",
    "vect = TfidfVectorizer(max_df=0.5)\n",
    "X_train_dtm = vect.fit_transform(X_train)\n",
    "X_val_dtm = vect.transform(X_val)\n",
    "print('Features: ', X_train_dtm.shape[1])\n",
    "print(vect.get_feature_names()[:50])\n",
    "print(vect.get_feature_names()[-100:])\n",
    "'''"
   ]
  },
  {
   "cell_type": "code",
   "execution_count": 55,
   "metadata": {},
   "outputs": [
    {
     "name": "stdout",
     "output_type": "stream",
     "text": [
      "Features:  11418\n",
      "['aa', 'aap', 'aappburma', 'aaronjayjack', 'ab', 'aba', 'abandon', 'abandoned', 'abbott', 'abbswinston', 'abby', 'abc', 'abcnews', 'abducted', 'abe', 'abhorrent', 'abia', 'ability', 'abiyahmedali', 'ablaze', 'able', 'ablinken', 'abnormal', 'abo', 'aboard', 'abohar', 'abomination', 'abortion', 'about', 'above', 'abroad', 'absolute', 'absolutely', 'abstain', 'abstorm', 'abstract', 'abt', 'abu', 'abuja', 'abuse', 'abused', 'abuseddesolateamplost', 'abuser', 'abuses', 'abusing', 'abusive', 'ac', 'acadthemy', 'acc', 'accelerate']\n",
      "['xmas', 'xoxo', 'xp', 'xtian', 'ya', 'yah', 'yahoo', 'yahoonews', 'yale', 'yall', 'yang', 'yangon', 'yaniv', 'yankees', 'yard', 'yarmouth', 'yarn', 'yawn', 'yay', 'yazd', 'ye', 'yea', 'yeah', 'year', 'years', 'yell', 'yelling', 'yellow', 'yeolmaaee', 'yep', 'yer', 'yes', 'yesterday', 'yesterdays', 'yet', 'yggdrasil', 'ying', 'yo', 'yobe', 'yoga', 'yolanda', 'yonakuni', 'yonews', 'yoobis', 'yoon', 'yoonbin', 'yoongi', 'yooo', 'york', 'you', 'youd', 'youll', 'young', 'younger', 'youngheroesid', 'your', 'youre', 'yours', 'yourself', 'yourselves', 'yous', 'youth', 'youths', 'youtube', 'youtuber', 'youve', 'yr', 'yrs', 'ysrcp', 'ythemen', 'yugvani', 'yugyeom', 'yung', 'yup', 'yupp', 'yusuf', 'yyc', 'zakbagans', 'zamboni', 'zarahsultana', 'zayn', 'zaynmalik', 'zealand', 'zealous', 'zero', 'zeroranger', 'zhan', 'zimbabwe', 'zionism', 'zionist', 'zip', 'zippednews', 'zombie', 'zombies', 'zone', 'zones', 'zoom', 'zouma', 'zuckerberg', 'zwelwinmyanmar']\n"
     ]
    }
   ],
   "source": [
    "from sklearn.neighbors import KNeighborsClassifier\n",
    "from sklearn.feature_extraction.text import TfidfVectorizer\n",
    "\n",
    "vect = TfidfVectorizer(min_df=2)\n",
    "X_train_dtm = vect.fit_transform(X_train)\n",
    "X_val_dtm = vect.transform(X_val)\n",
    "print('Features: ', X_train_dtm.shape[1])\n",
    "print(vect.get_feature_names()[:50])\n",
    "print(vect.get_feature_names()[-100:])"
   ]
  },
  {
   "cell_type": "code",
   "execution_count": 56,
   "metadata": {},
   "outputs": [
    {
     "name": "stdout",
     "output_type": "stream",
     "text": [
      "Accuracy:  0.7758125138182622\n",
      "Confusion matrix: \n",
      " [[3343   16]\n",
      " [ 998  166]]\n",
      "AUC:  0.626726908986372\n"
     ]
    }
   ],
   "source": [
    "from sklearn.neighbors import KNeighborsClassifier\n",
    "from sklearn import metrics\n",
    "\n",
    "knn = KNeighborsClassifier(n_neighbors=3)\n",
    "test_classifer(knn)"
   ]
  },
  {
   "cell_type": "code",
   "execution_count": 52,
   "metadata": {},
   "outputs": [
    {
     "name": "stdout",
     "output_type": "stream",
     "text": [
      "Features:  11138\n",
      "['aa', 'aap', 'aappburma', 'aaronjayjack', 'ab', 'aba', 'abandon', 'abandoned', 'abbott', 'abbswinston', 'abby', 'abc', 'abcnews', 'abducted', 'abe', 'abhorrent', 'abia', 'ability', 'abiyahmedali', 'ablaze', 'able', 'ablinken', 'abnormal', 'abo', 'aboard', 'abohar', 'abomination', 'abortion', 'abroad', 'absolute', 'absolutely', 'abstain', 'abstorm', 'abstract', 'abt', 'abu', 'abuja', 'abuse', 'abused', 'abuseddesolateamplost', 'abuser', 'abuses', 'abusing', 'abusive', 'ac', 'acadthemy', 'acc', 'accelerate', 'accept', 'acceptable']\n",
      "['wyou', 'xbox', 'xd', 'xeni', 'xiao', 'xining', 'xmas', 'xoxo', 'xp', 'xtian', 'ya', 'yah', 'yahoo', 'yahoonews', 'yale', 'yall', 'yang', 'yangon', 'yaniv', 'yankees', 'yard', 'yarmouth', 'yarn', 'yawn', 'yay', 'yazd', 'ye', 'yea', 'yeah', 'year', 'years', 'yell', 'yelling', 'yellow', 'yeolmaaee', 'yep', 'yer', 'yes', 'yesterday', 'yesterdays', 'yggdrasil', 'ying', 'yo', 'yobe', 'yoga', 'yolanda', 'yonakuni', 'yonews', 'yoobis', 'yoon', 'yoonbin', 'yoongi', 'yooo', 'york', 'youd', 'youll', 'young', 'younger', 'youngheroesid', 'youre', 'yous', 'youth', 'youths', 'youtube', 'youtuber', 'youve', 'yr', 'yrs', 'ysrcp', 'ythemen', 'yugvani', 'yugyeom', 'yung', 'yup', 'yupp', 'yusuf', 'yyc', 'zakbagans', 'zamboni', 'zarahsultana', 'zayn', 'zaynmalik', 'zealand', 'zealous', 'zero', 'zeroranger', 'zhan', 'zimbabwe', 'zionism', 'zionist', 'zip', 'zippednews', 'zombie', 'zombies', 'zone', 'zones', 'zoom', 'zouma', 'zuckerberg', 'zwelwinmyanmar']\n"
     ]
    }
   ],
   "source": [
    "from sklearn.neighbors import KNeighborsClassifier\n",
    "from sklearn.feature_extraction.text import TfidfVectorizer\n",
    "\n",
    "vect = TfidfVectorizer(stop_words='english', min_df=2)\n",
    "X_train_dtm = vect.fit_transform(X_train)\n",
    "X_val_dtm = vect.transform(X_val)\n",
    "print('Features: ', X_train_dtm.shape[1])\n",
    "print(vect.get_feature_names()[:50])\n",
    "print(vect.get_feature_names()[-100:])"
   ]
  },
  {
   "cell_type": "code",
   "execution_count": 53,
   "metadata": {},
   "outputs": [
    {
     "name": "stdout",
     "output_type": "stream",
     "text": [
      "Accuracy:  0.7758125138182622\n",
      "Confusion matrix: \n",
      " [[3330   29]\n",
      " [ 985  179]]\n",
      "AUC:  0.6372964257690015\n"
     ]
    }
   ],
   "source": [
    "from sklearn.neighbors import KNeighborsClassifier\n",
    "from sklearn import metrics\n",
    "\n",
    "knn = KNeighborsClassifier(n_neighbors=3)\n",
    "test_classifer(knn)"
   ]
  },
  {
   "cell_type": "code",
   "execution_count": 31,
   "metadata": {},
   "outputs": [
    {
     "name": "stdout",
     "output_type": "stream",
     "text": [
      "Features:  15000\n",
      "['aa', 'aap', 'aappburma', 'aaronjayjack', 'ab', 'aba', 'abandon', 'abandoned', 'abbott', 'abbswinston', 'abby', 'abc', 'abcnews', 'abducted', 'abe', 'abhorrent', 'abia', 'ability', 'abiyahmedali', 'ablaze', 'able', 'ablinken', 'abnormal', 'abo', 'aboard', 'abohar', 'abomination', 'abortion', 'about', 'above', 'abroad', 'absolute', 'absolutely', 'abstain', 'abstorm', 'abstract', 'abt', 'abu', 'abuja', 'abuse', 'abused', 'abuseddesolateamplost', 'abuser', 'abuses', 'abusing', 'abusive', 'ac', 'acadthemy', 'acc', 'accelerate']\n",
      "['yahoo', 'yahoonews', 'yahuah', 'yale', 'yall', 'yang', 'yangon', 'yaniv', 'yankees', 'yard', 'yarmouth', 'yarn', 'yawn', 'yay', 'yazd', 'ye', 'yea', 'yeah', 'year', 'years', 'yeji', 'yell', 'yelling', 'yellow', 'yeolmaaee', 'yep', 'yer', 'yes', 'yesterday', 'yesterdays', 'yet', 'yggdrasil', 'ying', 'yo', 'yobe', 'yoga', 'yolanda', 'yonakuni', 'yonews', 'yoobis', 'yoon', 'yoonbin', 'yoongi', 'yooo', 'york', 'you', 'youd', 'youll', 'young', 'younger', 'youngheroesid', 'your', 'youre', 'yours', 'yourself', 'yourselves', 'yous', 'youth', 'youths', 'youtube', 'youtuber', 'youve', 'yr', 'yrs', 'ysrcp', 'ythemen', 'yuga', 'yugvani', 'yugyeom', 'yung', 'yup', 'yupp', 'yusuf', 'yyc', 'zabadani', 'zakbagans', 'zamboni', 'zarahsultana', 'zayn', 'zaynmalik', 'zealand', 'zealous', 'zero', 'zeroranger', 'zhan', 'zimbabwe', 'zionism', 'zionist', 'zip', 'zippednews', 'zombie', 'zombies', 'zone', 'zones', 'zoo', 'zoom', 'zouma', 'zuckerberg', 'zuma', 'zwelwinmyanmar']\n"
     ]
    }
   ],
   "source": [
    "from sklearn.neighbors import KNeighborsClassifier\n",
    "from sklearn.feature_extraction.text import TfidfVectorizer\n",
    "\n",
    "vect = TfidfVectorizer(max_features=15000)\n",
    "X_train_dtm = vect.fit_transform(X_train)\n",
    "X_val_dtm = vect.transform(X_val)\n",
    "print('Features: ', X_train_dtm.shape[1])\n",
    "print(vect.get_feature_names()[:50])\n",
    "print(vect.get_feature_names()[-100:])"
   ]
  },
  {
   "cell_type": "code",
   "execution_count": 54,
   "metadata": {},
   "outputs": [
    {
     "name": "stdout",
     "output_type": "stream",
     "text": [
      "Accuracy:  0.7758125138182622\n",
      "Confusion matrix: \n",
      " [[3330   29]\n",
      " [ 985  179]]\n",
      "AUC:  0.6372964257690015\n"
     ]
    }
   ],
   "source": [
    "from sklearn.neighbors import KNeighborsClassifier\n",
    "from sklearn import metrics\n",
    "\n",
    "knn = KNeighborsClassifier(n_neighbors=3)\n",
    "test_classifer(knn)"
   ]
  },
  {
   "cell_type": "markdown",
   "metadata": {},
   "source": [
    "## 2. count"
   ]
  },
  {
   "cell_type": "markdown",
   "metadata": {},
   "source": [
    "Best in 1:<Br>\n",
    "Accuracy:  0.8346230378067654<Br>\n",
    "Confusion matrix: <Br>\n",
    " [[3222  137]<Br>\n",
    " [ 611  553]]<Br>\n",
    "AUC:  0.8274830199218595<Br>"
   ]
  },
  {
   "cell_type": "code",
   "execution_count": 93,
   "metadata": {},
   "outputs": [
    {
     "name": "stdout",
     "output_type": "stream",
     "text": [
      "Features:  30787\n",
      "['aa', 'aaaa', 'aaaaaaaaacccccckkkkkkkk', 'aaaaaaallll', 'aaarrrgghhh', 'aaceorg', 'aalaathun', 'aaliyah', 'aalso', 'aamar', 'aampm', 'aampw', 'aan', 'aanbhan', 'aanswering', 'aap', 'aappburma', 'aaquatic', 'aarifshaah', 'aaronjayjack', 'aaronlloydwhite', 'aaronthefm', 'aat', 'aayega', 'ab', 'aba', 'aback', 'abandon', 'abandoned', 'abandonedpics', 'abandoning', 'abanti', 'abathsagayeshwarar', 'abbandoned', 'abbot', 'abbots', 'abbotsford', 'abbott', 'abbottkingsley', 'abbruchsimulator', 'abbswinston', 'abby', 'abbyairshow', 'abc', 'abcnews', 'abcnorio', 'abcs', 'abcworldnews', 'abd', 'abduct']\n",
      "['zanu', 'zapping', 'zappy', 'zarahsultana', 'zardari', 'zarharzar', 'zariagenocide', 'zariamassacre', 'zarry', 'zayn', 'zaynmaiikist', 'zaynmalik', 'zboys', 'zeal', 'zealand', 'zealanders', 'zealous', 'zebramilfwhore', 'zechariah', 'zehrs', 'zekhan', 'zelda', 'zelensky', 'zenandemcfen', 'zennkyi', 'zep', 'zero', 'zeromdr', 'zeroplasticrun', 'zeroranger', 'zeros', 'zerovacancygal', 'zevon', 'zhan', 'zhang', 'zheenx', 'zheenxae', 'zhehanzhou', 'zhenghxn', 'zhivago', 'zhou', 'zhuhai', 'zicac', 'zico', 'ziggygreaves', 'zijin', 'zil', 'zillychu', 'zimbabwe', 'zimbabweans', 'zimmer', 'zimmerman', 'zimpapersviews', 'zionism', 'zionist', 'zionistowned', 'zionists', 'zip', 'ziphimup', 'zipped', 'zippednews', 'zipper', 'zishugong', 'zishuwen', 'zitti', 'ziuw', 'ziziphoxhosa', 'zoalways', 'zodiac', 'zofavorite', 'zolaamanda', 'zombie', 'zombiejerusalthem', 'zombies', 'zonal', 'zone', 'zoned', 'zones', 'zonesthank', 'zoo', 'zoom', 'zorayablack', 'zorro', 'zoskinhealth', 'zouma', 'zourryart', 'zoya', 'zrnf', 'zss', 'zuckerberg', 'zuko', 'zulaikhas', 'zulaykhas', 'zuma', 'zurich', 'zuru', 'zurutsavowest', 'zwelwinmyanmar', 'zxathetis', 'zzzz']\n"
     ]
    }
   ],
   "source": [
    "from sklearn.feature_extraction.text import CountVectorizer \n",
    "\n",
    "vect = CountVectorizer()\n",
    "X_train_dtm = vect.fit_transform(X_train)\n",
    "X_val_dtm = vect.transform(X_val)\n",
    "print('Features: ', X_train_dtm.shape[1])\n",
    "print(vect.get_feature_names()[:50])\n",
    "print(vect.get_feature_names()[-100:])"
   ]
  },
  {
   "cell_type": "code",
   "execution_count": 94,
   "metadata": {},
   "outputs": [
    {
     "name": "stdout",
     "output_type": "stream",
     "text": [
      "Accuracy:  0.7820030952907362\n",
      "Confusion matrix: \n",
      " [[3305   54]\n",
      " [ 932  232]]\n",
      "AUC:  0.6524988260497264\n"
     ]
    }
   ],
   "source": [
    "from sklearn.neighbors import KNeighborsClassifier\n",
    "from sklearn import metrics\n",
    "\n",
    "knn = KNeighborsClassifier(n_neighbors=3)\n",
    "test_classifer(knn)"
   ]
  },
  {
   "cell_type": "code",
   "execution_count": 99,
   "metadata": {},
   "outputs": [
    {
     "name": "stdout",
     "output_type": "stream",
     "text": [
      "Features:  30787\n",
      "['aa', 'aaaa', 'aaaaaaaaacccccckkkkkkkk', 'aaaaaaallll', 'aaarrrgghhh', 'aaceorg', 'aalaathun', 'aaliyah', 'aalso', 'aamar', 'aampm', 'aampw', 'aan', 'aanbhan', 'aanswering', 'aap', 'aappburma', 'aaquatic', 'aarifshaah', 'aaronjayjack', 'aaronlloydwhite', 'aaronthefm', 'aat', 'aayega', 'ab', 'aba', 'aback', 'abandon', 'abandoned', 'abandonedpics', 'abandoning', 'abanti', 'abathsagayeshwarar', 'abbandoned', 'abbot', 'abbots', 'abbotsford', 'abbott', 'abbottkingsley', 'abbruchsimulator', 'abbswinston', 'abby', 'abbyairshow', 'abc', 'abcnews', 'abcnorio', 'abcs', 'abcworldnews', 'abd', 'abduct']\n",
      "['zanu', 'zapping', 'zappy', 'zarahsultana', 'zardari', 'zarharzar', 'zariagenocide', 'zariamassacre', 'zarry', 'zayn', 'zaynmaiikist', 'zaynmalik', 'zboys', 'zeal', 'zealand', 'zealanders', 'zealous', 'zebramilfwhore', 'zechariah', 'zehrs', 'zekhan', 'zelda', 'zelensky', 'zenandemcfen', 'zennkyi', 'zep', 'zero', 'zeromdr', 'zeroplasticrun', 'zeroranger', 'zeros', 'zerovacancygal', 'zevon', 'zhan', 'zhang', 'zheenx', 'zheenxae', 'zhehanzhou', 'zhenghxn', 'zhivago', 'zhou', 'zhuhai', 'zicac', 'zico', 'ziggygreaves', 'zijin', 'zil', 'zillychu', 'zimbabwe', 'zimbabweans', 'zimmer', 'zimmerman', 'zimpapersviews', 'zionism', 'zionist', 'zionistowned', 'zionists', 'zip', 'ziphimup', 'zipped', 'zippednews', 'zipper', 'zishugong', 'zishuwen', 'zitti', 'ziuw', 'ziziphoxhosa', 'zoalways', 'zodiac', 'zofavorite', 'zolaamanda', 'zombie', 'zombiejerusalthem', 'zombies', 'zonal', 'zone', 'zoned', 'zones', 'zonesthank', 'zoo', 'zoom', 'zorayablack', 'zorro', 'zoskinhealth', 'zouma', 'zourryart', 'zoya', 'zrnf', 'zss', 'zuckerberg', 'zuko', 'zulaikhas', 'zulaykhas', 'zuma', 'zurich', 'zuru', 'zurutsavowest', 'zwelwinmyanmar', 'zxathetis', 'zzzz']\n"
     ]
    }
   ],
   "source": [
    "from sklearn.feature_extraction.text import CountVectorizer \n",
    "\n",
    "vect = CountVectorizer(binary=True)\n",
    "X_train_dtm = vect.fit_transform(X_train)\n",
    "X_val_dtm = vect.transform(X_val)\n",
    "print('Features: ', X_train_dtm.shape[1])\n",
    "print(vect.get_feature_names()[:50])\n",
    "print(vect.get_feature_names()[-100:])"
   ]
  },
  {
   "cell_type": "code",
   "execution_count": 100,
   "metadata": {},
   "outputs": [
    {
     "name": "stdout",
     "output_type": "stream",
     "text": [
      "Accuracy:  0.7842140172451912\n",
      "Confusion matrix: \n",
      " [[3332   27]\n",
      " [ 949  215]]\n",
      "AUC:  0.6539995130280347\n"
     ]
    }
   ],
   "source": [
    "# Best in 2\n",
    "from sklearn.neighbors import KNeighborsClassifier\n",
    "from sklearn import metrics\n",
    "\n",
    "knn = KNeighborsClassifier(n_neighbors=3)\n",
    "test_classifer(knn)"
   ]
  },
  {
   "cell_type": "code",
   "execution_count": 101,
   "metadata": {},
   "outputs": [
    {
     "name": "stdout",
     "output_type": "stream",
     "text": [
      "Accuracy:  0.7720539464956887\n",
      "Confusion matrix: \n",
      " [[3336   23]\n",
      " [1008  156]]\n",
      "AUC:  0.6558729739766682\n"
     ]
    }
   ],
   "source": [
    "from sklearn.neighbors import KNeighborsClassifier\n",
    "from sklearn import metrics\n",
    "\n",
    "knn = KNeighborsClassifier(n_neighbors=5)\n",
    "test_classifer(knn)"
   ]
  },
  {
   "cell_type": "code",
   "execution_count": 102,
   "metadata": {},
   "outputs": [
    {
     "name": "stdout",
     "output_type": "stream",
     "text": [
      "Accuracy:  0.7654211806323237\n",
      "Confusion matrix: \n",
      " [[3349   10]\n",
      " [1051  113]]\n",
      "AUC:  0.6563703043267868\n"
     ]
    }
   ],
   "source": [
    "from sklearn.neighbors import KNeighborsClassifier\n",
    "from sklearn import metrics\n",
    "\n",
    "knn = KNeighborsClassifier(n_neighbors=7)\n",
    "test_classifer(knn)"
   ]
  },
  {
   "cell_type": "code",
   "execution_count": null,
   "metadata": {},
   "outputs": [],
   "source": []
  },
  {
   "cell_type": "code",
   "execution_count": null,
   "metadata": {},
   "outputs": [],
   "source": []
  },
  {
   "cell_type": "code",
   "execution_count": 81,
   "metadata": {},
   "outputs": [
    {
     "name": "stdout",
     "output_type": "stream",
     "text": [
      "Features:  37700\n",
      "['AA', 'AAAA', 'AAAAAAALLLL', 'AACEorg', 'ABC', 'ABCWorldNews', 'ABCs', 'ABEL', 'ABIA', 'ABLAZE', 'ABOUT', 'ABSO', 'ABSOLUTE', 'ABSOLUTELY', 'ABT', 'ABUSE', 'ABUSEDDESOLATEampLOST', 'ABlinken', 'ABomb', 'AC', 'ACCIDENT', 'ACCIDENTALLY', 'ACCUSES', 'ACDC', 'ACLU', 'ACNH', 'ACSRangoon', 'ACT', 'ACTING', 'ACTION', 'ACTIVITY', 'ACTOR', 'ACTUALLY', 'ACarewornHeart', 'ACeBabes', 'AD', 'ADA', 'ADHD', 'ADL', 'ADMK', 'ADMorgan', 'ADNDAPAT', 'ADRENOCHROME', 'ADVENTURE', 'ADVERT', 'AESPAINAUNION', 'AEW', 'AF', 'AFC', 'AFFECT']\n",
      "['yip', 'yips', 'yjhansexy', 'yknow', 'ykw', 'yo', 'yoobis', 'yoonbin', 'yoongi', 'yoonhee', 'york', 'yoshi', 'you', 'youAnd', 'youLeft', 'youd', 'youll', 'youmustrise', 'youn', 'young', 'youngdves', 'younger', 'youngest', 'youngins', 'your', 'yourboyshawn', 'youre', 'yours', 'yoursLet', 'yoursel', 'yourself', 'yourselves', 'yous', 'youtaites', 'youth', 'youthDid', 'youthrowntrue', 'youths', 'youtube', 'youtuber', 'youtubers', 'youve', 'youwhat', 'yr', 'yrs', 'ysjagan', 'ystrdy', 'yuga', 'yugvani', 'yugyeom', 'yuh', 'yuna', 'yung', 'yupp', 'yusufpore', 'yuutdthem', 'yuvi', 'yxngflair', 'yyc', 'yycfringe', 'yycstorm', 'yycwalks', 'yycweather', 'yyj', 'yzdawar', 'zachawelch', 'zalisteggall', 'zamboni', 'zamtriossu', 'zan', 'zapping', 'zarahsultana', 'zardari', 'zarry', 'zayn', 'zaynmaIikist', 'zaynmalik', 'zealous', 'zehrs', 'zennkyi', 'zero', 'zeroranger', 'zerovacancygal', 'zhan', 'zhenghxn', 'ziggygreaves', 'zionist', 'zipped', 'zoalways', 'zombie', 'zombiejerusalthem', 'zombies', 'zone', 'zones', 'zonesthank', 'zoo', 'zoom', 'zoskinhealth', 'zourryart', 'zzzz']\n"
     ]
    }
   ],
   "source": [
    "from sklearn.feature_extraction.text import CountVectorizer \n",
    "\n",
    "vect = CountVectorizer(lowercase=False)\n",
    "X_train_dtm = vect.fit_transform(X_train)\n",
    "X_val_dtm = vect.transform(X_val)\n",
    "print('Features: ', X_train_dtm.shape[1])\n",
    "print(vect.get_feature_names()[:50])\n",
    "print(vect.get_feature_names()[-100:])"
   ]
  },
  {
   "cell_type": "code",
   "execution_count": 87,
   "metadata": {},
   "outputs": [
    {
     "name": "stdout",
     "output_type": "stream",
     "text": [
      "Accuracy:  0.7780234357727173\n",
      "Confusion matrix: \n",
      " [[3314   45]\n",
      " [ 959  205]]\n",
      "AUC:  0.6337011710857327\n"
     ]
    }
   ],
   "source": [
    "from sklearn.neighbors import KNeighborsClassifier\n",
    "from sklearn import metrics\n",
    "\n",
    "knn = KNeighborsClassifier(n_neighbors=3)\n",
    "test_classifer(knn)"
   ]
  },
  {
   "cell_type": "code",
   "execution_count": 82,
   "metadata": {},
   "outputs": [
    {
     "name": "stdout",
     "output_type": "stream",
     "text": [
      "Features:  30498\n",
      "['aa', 'aaaa', 'aaaaaaaaacccccckkkkkkkk', 'aaaaaaallll', 'aaarrrgghhh', 'aaceorg', 'aalaathun', 'aaliyah', 'aalso', 'aamar', 'aampm', 'aampw', 'aan', 'aanbhan', 'aanswering', 'aap', 'aappburma', 'aaquatic', 'aarifshaah', 'aaronjayjack', 'aaronlloydwhite', 'aaronthefm', 'aat', 'aayega', 'ab', 'aba', 'aback', 'abandon', 'abandoned', 'abandonedpics', 'abandoning', 'abanti', 'abathsagayeshwarar', 'abbandoned', 'abbot', 'abbots', 'abbotsford', 'abbott', 'abbottkingsley', 'abbruchsimulator', 'abbswinston', 'abby', 'abbyairshow', 'abc', 'abcnews', 'abcnorio', 'abcs', 'abcworldnews', 'abd', 'abduct']\n",
      "['zanu', 'zapping', 'zappy', 'zarahsultana', 'zardari', 'zarharzar', 'zariagenocide', 'zariamassacre', 'zarry', 'zayn', 'zaynmaiikist', 'zaynmalik', 'zboys', 'zeal', 'zealand', 'zealanders', 'zealous', 'zebramilfwhore', 'zechariah', 'zehrs', 'zekhan', 'zelda', 'zelensky', 'zenandemcfen', 'zennkyi', 'zep', 'zero', 'zeromdr', 'zeroplasticrun', 'zeroranger', 'zeros', 'zerovacancygal', 'zevon', 'zhan', 'zhang', 'zheenx', 'zheenxae', 'zhehanzhou', 'zhenghxn', 'zhivago', 'zhou', 'zhuhai', 'zicac', 'zico', 'ziggygreaves', 'zijin', 'zil', 'zillychu', 'zimbabwe', 'zimbabweans', 'zimmer', 'zimmerman', 'zimpapersviews', 'zionism', 'zionist', 'zionistowned', 'zionists', 'zip', 'ziphimup', 'zipped', 'zippednews', 'zipper', 'zishugong', 'zishuwen', 'zitti', 'ziuw', 'ziziphoxhosa', 'zoalways', 'zodiac', 'zofavorite', 'zolaamanda', 'zombie', 'zombiejerusalthem', 'zombies', 'zonal', 'zone', 'zoned', 'zones', 'zonesthank', 'zoo', 'zoom', 'zorayablack', 'zorro', 'zoskinhealth', 'zouma', 'zourryart', 'zoya', 'zrnf', 'zss', 'zuckerberg', 'zuko', 'zulaikhas', 'zulaykhas', 'zuma', 'zurich', 'zuru', 'zurutsavowest', 'zwelwinmyanmar', 'zxathetis', 'zzzz']\n"
     ]
    }
   ],
   "source": [
    "from sklearn.feature_extraction.text import CountVectorizer \n",
    "\n",
    "vect = CountVectorizer(stop_words='english')\n",
    "X_train_dtm = vect.fit_transform(X_train)\n",
    "X_val_dtm = vect.transform(X_val)\n",
    "print('Features: ', X_train_dtm.shape[1])\n",
    "print(vect.get_feature_names()[:50])\n",
    "print(vect.get_feature_names()[-100:])"
   ]
  },
  {
   "cell_type": "code",
   "execution_count": 88,
   "metadata": {},
   "outputs": [
    {
     "name": "stdout",
     "output_type": "stream",
     "text": [
      "Accuracy:  0.7780234357727173\n",
      "Confusion matrix: \n",
      " [[3314   45]\n",
      " [ 959  205]]\n",
      "AUC:  0.6337011710857327\n"
     ]
    }
   ],
   "source": [
    "from sklearn.neighbors import KNeighborsClassifier\n",
    "from sklearn import metrics\n",
    "\n",
    "knn = KNeighborsClassifier(n_neighbors=3)\n",
    "test_classifer(knn)"
   ]
  },
  {
   "cell_type": "code",
   "execution_count": 84,
   "metadata": {},
   "outputs": [
    {
     "name": "stdout",
     "output_type": "stream",
     "text": [
      "Features:  11418\n",
      "['aa', 'aap', 'aappburma', 'aaronjayjack', 'ab', 'aba', 'abandon', 'abandoned', 'abbott', 'abbswinston', 'abby', 'abc', 'abcnews', 'abducted', 'abe', 'abhorrent', 'abia', 'ability', 'abiyahmedali', 'ablaze', 'able', 'ablinken', 'abnormal', 'abo', 'aboard', 'abohar', 'abomination', 'abortion', 'about', 'above', 'abroad', 'absolute', 'absolutely', 'abstain', 'abstorm', 'abstract', 'abt', 'abu', 'abuja', 'abuse', 'abused', 'abuseddesolateamplost', 'abuser', 'abuses', 'abusing', 'abusive', 'ac', 'acadthemy', 'acc', 'accelerate']\n",
      "['xmas', 'xoxo', 'xp', 'xtian', 'ya', 'yah', 'yahoo', 'yahoonews', 'yale', 'yall', 'yang', 'yangon', 'yaniv', 'yankees', 'yard', 'yarmouth', 'yarn', 'yawn', 'yay', 'yazd', 'ye', 'yea', 'yeah', 'year', 'years', 'yell', 'yelling', 'yellow', 'yeolmaaee', 'yep', 'yer', 'yes', 'yesterday', 'yesterdays', 'yet', 'yggdrasil', 'ying', 'yo', 'yobe', 'yoga', 'yolanda', 'yonakuni', 'yonews', 'yoobis', 'yoon', 'yoonbin', 'yoongi', 'yooo', 'york', 'you', 'youd', 'youll', 'young', 'younger', 'youngheroesid', 'your', 'youre', 'yours', 'yourself', 'yourselves', 'yous', 'youth', 'youths', 'youtube', 'youtuber', 'youve', 'yr', 'yrs', 'ysrcp', 'ythemen', 'yugvani', 'yugyeom', 'yung', 'yup', 'yupp', 'yusuf', 'yyc', 'zakbagans', 'zamboni', 'zarahsultana', 'zayn', 'zaynmalik', 'zealand', 'zealous', 'zero', 'zeroranger', 'zhan', 'zimbabwe', 'zionism', 'zionist', 'zip', 'zippednews', 'zombie', 'zombies', 'zone', 'zones', 'zoom', 'zouma', 'zuckerberg', 'zwelwinmyanmar']\n"
     ]
    }
   ],
   "source": [
    "from sklearn.feature_extraction.text import CountVectorizer \n",
    "\n",
    "vect = CountVectorizer(min_df=2)\n",
    "X_train_dtm = vect.fit_transform(X_train)\n",
    "X_val_dtm = vect.transform(X_val)\n",
    "print('Features: ', X_train_dtm.shape[1])\n",
    "print(vect.get_feature_names()[:50])\n",
    "print(vect.get_feature_names()[-100:])"
   ]
  },
  {
   "cell_type": "code",
   "execution_count": 89,
   "metadata": {},
   "outputs": [
    {
     "name": "stdout",
     "output_type": "stream",
     "text": [
      "Accuracy:  0.7780234357727173\n",
      "Confusion matrix: \n",
      " [[3314   45]\n",
      " [ 959  205]]\n",
      "AUC:  0.6337011710857327\n"
     ]
    }
   ],
   "source": [
    "from sklearn.neighbors import KNeighborsClassifier\n",
    "from sklearn import metrics\n",
    "\n",
    "knn = KNeighborsClassifier(n_neighbors=3)\n",
    "test_classifer(knn)"
   ]
  },
  {
   "cell_type": "code",
   "execution_count": 85,
   "metadata": {},
   "outputs": [
    {
     "name": "stdout",
     "output_type": "stream",
     "text": [
      "Features:  15000\n",
      "['aa', 'aap', 'aappburma', 'aaronjayjack', 'ab', 'aba', 'abandon', 'abandoned', 'abbott', 'abbswinston', 'abby', 'abc', 'abcnews', 'abducted', 'abe', 'abhorrent', 'abia', 'ability', 'abiyahmedali', 'ablaze', 'able', 'ablinken', 'abnormal', 'abo', 'aboard', 'abohar', 'abomination', 'abortion', 'about', 'above', 'abroad', 'absolute', 'absolutely', 'abstain', 'abstorm', 'abstract', 'abt', 'abu', 'abuja', 'abuse', 'abused', 'abuseddesolateamplost', 'abuser', 'abuses', 'abusing', 'abusive', 'ac', 'acadthemy', 'acc', 'accelerate']\n",
      "['yahoo', 'yahoonews', 'yahuah', 'yale', 'yall', 'yang', 'yangon', 'yaniv', 'yankees', 'yard', 'yarmouth', 'yarn', 'yawn', 'yay', 'yazd', 'ye', 'yea', 'yeah', 'year', 'years', 'yeji', 'yell', 'yelling', 'yellow', 'yeolmaaee', 'yep', 'yer', 'yes', 'yesterday', 'yesterdays', 'yet', 'yggdrasil', 'ying', 'yo', 'yobe', 'yoga', 'yolanda', 'yonakuni', 'yonews', 'yoobis', 'yoon', 'yoonbin', 'yoongi', 'yooo', 'york', 'you', 'youd', 'youll', 'young', 'younger', 'youngheroesid', 'your', 'youre', 'yours', 'yourself', 'yourselves', 'yous', 'youth', 'youths', 'youtube', 'youtuber', 'youve', 'yr', 'yrs', 'ysrcp', 'ythemen', 'yuga', 'yugvani', 'yugyeom', 'yung', 'yup', 'yupp', 'yusuf', 'yyc', 'zabadani', 'zakbagans', 'zamboni', 'zarahsultana', 'zayn', 'zaynmalik', 'zealand', 'zealous', 'zero', 'zeroranger', 'zhan', 'zimbabwe', 'zionism', 'zionist', 'zip', 'zippednews', 'zombie', 'zombies', 'zone', 'zones', 'zoo', 'zoom', 'zouma', 'zuckerberg', 'zuma', 'zwelwinmyanmar']\n"
     ]
    }
   ],
   "source": [
    "from sklearn.feature_extraction.text import CountVectorizer \n",
    "\n",
    "vect = CountVectorizer(max_features=15000)\n",
    "X_train_dtm = vect.fit_transform(X_train)\n",
    "X_val_dtm = vect.transform(X_val)\n",
    "print('Features: ', X_train_dtm.shape[1])\n",
    "print(vect.get_feature_names()[:50])\n",
    "print(vect.get_feature_names()[-100:])"
   ]
  },
  {
   "cell_type": "code",
   "execution_count": 90,
   "metadata": {},
   "outputs": [
    {
     "name": "stdout",
     "output_type": "stream",
     "text": [
      "Accuracy:  0.7780234357727173\n",
      "Confusion matrix: \n",
      " [[3314   45]\n",
      " [ 959  205]]\n",
      "AUC:  0.6337011710857327\n"
     ]
    }
   ],
   "source": [
    "from sklearn.neighbors import KNeighborsClassifier\n",
    "from sklearn import metrics\n",
    "\n",
    "knn = KNeighborsClassifier(n_neighbors=3)\n",
    "test_classifer(knn)"
   ]
  },
  {
   "cell_type": "markdown",
   "metadata": {},
   "source": [
    "## 3. Test with the overall best one"
   ]
  },
  {
   "cell_type": "code",
   "execution_count": 103,
   "metadata": {},
   "outputs": [
    {
     "name": "stdout",
     "output_type": "stream",
     "text": [
      "Features:  30787\n",
      "['aa', 'aaaa', 'aaaaaaaaacccccckkkkkkkk', 'aaaaaaallll', 'aaarrrgghhh', 'aaceorg', 'aalaathun', 'aaliyah', 'aalso', 'aamar', 'aampm', 'aampw', 'aan', 'aanbhan', 'aanswering', 'aap', 'aappburma', 'aaquatic', 'aarifshaah', 'aaronjayjack', 'aaronlloydwhite', 'aaronthefm', 'aat', 'aayega', 'ab', 'aba', 'aback', 'abandon', 'abandoned', 'abandonedpics', 'abandoning', 'abanti', 'abathsagayeshwarar', 'abbandoned', 'abbot', 'abbots', 'abbotsford', 'abbott', 'abbottkingsley', 'abbruchsimulator', 'abbswinston', 'abby', 'abbyairshow', 'abc', 'abcnews', 'abcnorio', 'abcs', 'abcworldnews', 'abd', 'abduct']\n",
      "['zanu', 'zapping', 'zappy', 'zarahsultana', 'zardari', 'zarharzar', 'zariagenocide', 'zariamassacre', 'zarry', 'zayn', 'zaynmaiikist', 'zaynmalik', 'zboys', 'zeal', 'zealand', 'zealanders', 'zealous', 'zebramilfwhore', 'zechariah', 'zehrs', 'zekhan', 'zelda', 'zelensky', 'zenandemcfen', 'zennkyi', 'zep', 'zero', 'zeromdr', 'zeroplasticrun', 'zeroranger', 'zeros', 'zerovacancygal', 'zevon', 'zhan', 'zhang', 'zheenx', 'zheenxae', 'zhehanzhou', 'zhenghxn', 'zhivago', 'zhou', 'zhuhai', 'zicac', 'zico', 'ziggygreaves', 'zijin', 'zil', 'zillychu', 'zimbabwe', 'zimbabweans', 'zimmer', 'zimmerman', 'zimpapersviews', 'zionism', 'zionist', 'zionistowned', 'zionists', 'zip', 'ziphimup', 'zipped', 'zippednews', 'zipper', 'zishugong', 'zishuwen', 'zitti', 'ziuw', 'ziziphoxhosa', 'zoalways', 'zodiac', 'zofavorite', 'zolaamanda', 'zombie', 'zombiejerusalthem', 'zombies', 'zonal', 'zone', 'zoned', 'zones', 'zonesthank', 'zoo', 'zoom', 'zorayablack', 'zorro', 'zoskinhealth', 'zouma', 'zourryart', 'zoya', 'zrnf', 'zss', 'zuckerberg', 'zuko', 'zulaikhas', 'zulaykhas', 'zuma', 'zurich', 'zuru', 'zurutsavowest', 'zwelwinmyanmar', 'zxathetis', 'zzzz']\n"
     ]
    }
   ],
   "source": [
    "vect = TfidfVectorizer(sublinear_tf=True, binary=True)\n",
    "X_train_dtm = vect.fit_transform(X_train)\n",
    "X_test_dtm = vect.transform(X_test)\n",
    "print('Features: ', X_train_dtm.shape[1])\n",
    "print(vect.get_feature_names()[:50])\n",
    "print(vect.get_feature_names()[-100:])"
   ]
  },
  {
   "cell_type": "code",
   "execution_count": 105,
   "metadata": {},
   "outputs": [
    {
     "name": "stdout",
     "output_type": "stream",
     "text": [
      "Accuracy:  0.8304597701149425\n",
      "Confusion matrix: \n",
      " [[3207  155]\n",
      " [ 612  550]]\n",
      "AUC:  0.8308297351895899\n"
     ]
    }
   ],
   "source": [
    "# best in 1.2, overall best one\n",
    "from sklearn.neighbors import KNeighborsClassifier\n",
    "from sklearn import metrics\n",
    "\n",
    "knn = KNeighborsClassifier(n_neighbors=13)\n",
    "\n",
    "knn.fit(X_train_dtm, y_train)\n",
    "y_pred_class = knn.predict(X_test_dtm)\n",
    "    \n",
    "print('Accuracy: ', metrics.accuracy_score(y_test, y_pred_class))\n",
    "print('Confusion matrix: \\n', metrics.confusion_matrix(y_test, y_pred_class))\n",
    "y_pred_prob = knn.predict_proba(X_test_dtm)[:, 1]\n",
    "print('AUC: ', metrics.roc_auc_score(y_test, y_pred_prob))"
   ]
  },
  {
   "cell_type": "code",
   "execution_count": null,
   "metadata": {},
   "outputs": [],
   "source": []
  }
 ],
 "metadata": {
  "kernelspec": {
   "display_name": "Python 3",
   "language": "python",
   "name": "python3"
  },
  "language_info": {
   "codemirror_mode": {
    "name": "ipython",
    "version": 3
   },
   "file_extension": ".py",
   "mimetype": "text/x-python",
   "name": "python",
   "nbconvert_exporter": "python",
   "pygments_lexer": "ipython3",
   "version": "3.8.5"
  }
 },
 "nbformat": 4,
 "nbformat_minor": 4
}
